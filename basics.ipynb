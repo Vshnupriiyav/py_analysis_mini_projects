{
 "cells": [
  {
   "cell_type": "markdown",
   "metadata": {},
   "source": [
    "Data types\n"
   ]
  },
  {
   "cell_type": "code",
   "execution_count": 2,
   "metadata": {},
   "outputs": [
    {
     "name": "stdout",
     "output_type": "stream",
     "text": [
      "<class 'int'>\n",
      "<class 'float'>\n"
     ]
    }
   ],
   "source": [
    "#Implicitly defining the type of data while assining a varibled.\n",
    "a = 7\n",
    "b = 7/2\n",
    "print(type(a))\n",
    "print(type(b))"
   ]
  },
  {
   "cell_type": "code",
   "execution_count": 7,
   "metadata": {},
   "outputs": [
    {
     "name": "stdout",
     "output_type": "stream",
     "text": [
      "<class 'str'>\n",
      "33\n",
      "6\n"
     ]
    }
   ],
   "source": [
    "#explicitly defining the type of data\n",
    "num = \"3\"\n",
    "num1 = int(num)\n",
    "print(type(num))\n",
    "print(num+num)\n",
    "print(num1+num1)"
   ]
  },
  {
   "cell_type": "code",
   "execution_count": 9,
   "metadata": {},
   "outputs": [
    {
     "name": "stdout",
     "output_type": "stream",
     "text": [
      "10.0\n",
      "10\n",
      "True\n",
      "<class 'int'>\n",
      "20\n"
     ]
    }
   ],
   "source": [
    "#converting a int to int, float, str\n",
    "a = 10\n",
    "print(float(a))\n",
    "print(str(a))\n",
    "print(bool(a))\n",
    "print(type(a))\n",
    "print(a+a)"
   ]
  },
  {
   "cell_type": "code",
   "execution_count": 15,
   "metadata": {},
   "outputs": [
    {
     "name": "stdout",
     "output_type": "stream",
     "text": [
      "10\n"
     ]
    }
   ],
   "source": [
    "#update varaible\n",
    "length = 20\n",
    "length -= 10\n",
    "print(length)"
   ]
  },
  {
   "cell_type": "code",
   "execution_count": 20,
   "metadata": {},
   "outputs": [
    {
     "name": "stdout",
     "output_type": "stream",
     "text": [
      "22\n",
      "20\n",
      "40\n",
      "20.0\n",
      "10.0\n",
      "100.0\n",
      "0.0\n"
     ]
    }
   ],
   "source": [
    "a = 20\n",
    "b = 2\n",
    "a +=b\n",
    "print(a)\n",
    "a -=b\n",
    "print(a)\n",
    "a *=b\n",
    "print(a)\n",
    "a /= b\n",
    "print(a)\n",
    "a //=b \n",
    "print(a)\n",
    "a **= b\n",
    "print(a)\n",
    "a %= b\n",
    "print(a)"
   ]
  },
  {
   "cell_type": "code",
   "execution_count": 23,
   "metadata": {},
   "outputs": [
    {
     "name": "stdout",
     "output_type": "stream",
     "text": [
      "0\n"
     ]
    }
   ],
   "source": [
    "#logical operator\n",
    "print(1 and 0)"
   ]
  },
  {
   "cell_type": "code",
   "execution_count": 24,
   "metadata": {},
   "outputs": [
    {
     "name": "stdout",
     "output_type": "stream",
     "text": [
      "7\n"
     ]
    }
   ],
   "source": [
    "x = 5\n",
    "y = 3\n",
    "z = 2\n",
    "print(x + y*z // y)"
   ]
  },
  {
   "cell_type": "code",
   "execution_count": 29,
   "metadata": {},
   "outputs": [
    {
     "name": "stdout",
     "output_type": "stream",
     "text": [
      "2\n"
     ]
    }
   ],
   "source": [
    "# print(y*z // y)\n",
    "print(6//y)"
   ]
  },
  {
   "cell_type": "code",
   "execution_count": 33,
   "metadata": {},
   "outputs": [
    {
     "name": "stdout",
     "output_type": "stream",
     "text": [
      "Vishnu priya\n",
      "Vishnupriya\n",
      "Vishnupriya!\n",
      "Vishnupriya!Vishnupriya!\n"
     ]
    }
   ],
   "source": [
    "#working wiht strings\n",
    "a = \"Vishnu\"\n",
    "b = \"priya\"\n",
    "print(a+ \" \" + b)\n",
    "name = a+b\n",
    "print(name)\n",
    "name += \"!\"\n",
    "print(name)\n",
    "name += name\n",
    "print(name)"
   ]
  },
  {
   "cell_type": "code",
   "execution_count": 36,
   "metadata": {},
   "outputs": [
    {
     "name": "stdout",
     "output_type": "stream",
     "text": [
      "hey hey hey \n"
     ]
    }
   ],
   "source": [
    "a = \"hey \"\n",
    "print(a* 3)"
   ]
  },
  {
   "cell_type": "code",
   "execution_count": 49,
   "metadata": {},
   "outputs": [
    {
     "name": "stdout",
     "output_type": "stream",
     "text": [
      "woahhhhhhhhhhh\n",
      "woah!!!\n",
      "\n",
      "\n",
      "\n",
      "awesome\n",
      "woah!!!\n",
      "\n",
      "\n",
      "\n",
      "awesomewoah!!!\n",
      "\n",
      "\n",
      "\n",
      "awesomewoah!!!\n",
      "\n",
      "\n",
      "\n",
      "awesomewoah!!!\n",
      "\n",
      "\n",
      "\n",
      "awesomewoah!!!\n",
      "\n",
      "\n",
      "\n",
      "awesomewoah!!!\n",
      "\n",
      "\n",
      "\n",
      "awesomewoah!!!\n",
      "\n",
      "\n",
      "\n",
      "awesomewoah!!!\n",
      "\n",
      "\n",
      "\n",
      "awesomewoah!!!\n",
      "\n",
      "\n",
      "\n",
      "awesomewoah!!!\n",
      "\n",
      "\n",
      "\n",
      "awesome\n"
     ]
    }
   ],
   "source": [
    "# using /n. /t using repetition, using already assigned varibles, \n",
    "a = \"woah\"\n",
    "print(a + \"h\"*10)\n",
    "b = a + \"!\"*3 + \"\\n\"*4 + \"awesome\"\n",
    "print(b)\n",
    "# print(type(b))\n",
    "print(b*10)\n"
   ]
  },
  {
   "cell_type": "code",
   "execution_count": 51,
   "metadata": {},
   "outputs": [
    {
     "name": "stdout",
     "output_type": "stream",
     "text": [
      "i\n"
     ]
    }
   ],
   "source": [
    "a = \"Programming\"\n",
    "print(a[-3])"
   ]
  },
  {
   "cell_type": "code",
   "execution_count": 52,
   "metadata": {},
   "outputs": [
    {
     "name": "stdout",
     "output_type": "stream",
     "text": [
      "Oxygen\n"
     ]
    }
   ],
   "source": [
    "word = \"Ocygen\"\n",
    "word = word.replace(\"c\",\"x\")\n",
    "print(word)"
   ]
  },
  {
   "cell_type": "code",
   "execution_count": 64,
   "metadata": {},
   "outputs": [
    {
     "name": "stdout",
     "output_type": "stream",
     "text": [
      "Oxy\n"
     ]
    }
   ],
   "source": [
    "# # slice = word[3:6]\n",
    "# # slice1 = word[-3:]\n",
    "# slice1 = word[3:]\n",
    "slice1 = word[:3]\n",
    "print(slice1)"
   ]
  },
  {
   "cell_type": "code",
   "execution_count": 67,
   "metadata": {},
   "outputs": [],
   "source": [
    "word = \"Ocygen\"\n",
    "word = word[:1] + \"x\" + word[2:]"
   ]
  },
  {
   "cell_type": "code",
   "execution_count": 68,
   "metadata": {},
   "outputs": [
    {
     "name": "stdout",
     "output_type": "stream",
     "text": [
      "ygen\n"
     ]
    }
   ],
   "source": [
    "print(word[2:])"
   ]
  },
  {
   "cell_type": "code",
   "execution_count": 69,
   "metadata": {},
   "outputs": [
    {
     "name": "stdout",
     "output_type": "stream",
     "text": [
      "Oxygen\n"
     ]
    }
   ],
   "source": [
    "print(word)"
   ]
  },
  {
   "cell_type": "code",
   "execution_count": 79,
   "metadata": {},
   "outputs": [
    {
     "name": "stdout",
     "output_type": "stream",
     "text": [
      "negyxO\n"
     ]
    }
   ],
   "source": [
    "print(word[::-1])"
   ]
  },
  {
   "cell_type": "code",
   "execution_count": 73,
   "metadata": {},
   "outputs": [
    {
     "name": "stdout",
     "output_type": "stream",
     "text": [
      "Oxygen\n"
     ]
    }
   ],
   "source": [
    "print(word)"
   ]
  },
  {
   "cell_type": "code",
   "execution_count": 82,
   "metadata": {},
   "outputs": [
    {
     "name": "stdout",
     "output_type": "stream",
     "text": [
      "ige\n"
     ]
    }
   ],
   "source": [
    "s = \"abcdefghij\"\n",
    "print(s[8:3:-2])"
   ]
  },
  {
   "cell_type": "markdown",
   "metadata": {},
   "source": [
    "Taking user inputs"
   ]
  },
  {
   "cell_type": "code",
   "execution_count": 3,
   "metadata": {},
   "outputs": [
    {
     "name": "stdout",
     "output_type": "stream",
     "text": [
      "my age is 18\n"
     ]
    }
   ],
   "source": [
    "num = input()\n",
    "print(f\"my age is {num}\")"
   ]
  },
  {
   "cell_type": "code",
   "execution_count": 2,
   "metadata": {},
   "outputs": [
    {
     "name": "stdout",
     "output_type": "stream",
     "text": [
      "You are aldklakd years old.\n"
     ]
    }
   ],
   "source": [
    "age = input()\n",
    "print(\"You are \" + age + \" years old.\")"
   ]
  },
  {
   "cell_type": "code",
   "execution_count": 5,
   "metadata": {},
   "outputs": [
    {
     "name": "stdout",
     "output_type": "stream",
     "text": [
      "the value is: 5\n"
     ]
    }
   ],
   "source": [
    "a = int(input())\n",
    "b = int(input())\n",
    "sum = a +b\n",
    "print(\"the value is:\",sum)"
   ]
  },
  {
   "cell_type": "code",
   "execution_count": 10,
   "metadata": {},
   "outputs": [
    {
     "name": "stdout",
     "output_type": "stream",
     "text": [
      "a: okay\n",
      "b: the\n",
      "c: thi\n"
     ]
    }
   ],
   "source": [
    "a,b,c = input().split()\n",
    "print(\"a:\",a)\n",
    "print(\"b:\",b)\n",
    "print(\"c:\",c)"
   ]
  },
  {
   "cell_type": "code",
   "execution_count": 11,
   "metadata": {},
   "outputs": [
    {
     "name": "stdout",
     "output_type": "stream",
     "text": [
      "3\n"
     ]
    }
   ],
   "source": [
    "a,b,c  = map(int,input().split())\n",
    "print(a+b+c)"
   ]
  },
  {
   "cell_type": "code",
   "execution_count": 12,
   "metadata": {},
   "outputs": [
    {
     "name": "stdout",
     "output_type": "stream",
     "text": [
      "4 x 1 = 4\n",
      "4 x 2 = 8\n",
      "4 x 3 = 12\n",
      "4 x 4 = 16\n",
      "4 x 5 = 20\n",
      "4 x 6 = 24\n"
     ]
    }
   ],
   "source": [
    "n = int(input())\n",
    "print(n, \"x 1 =\", n*1)\n",
    "print(n, \"x 2 =\", n*2)\n",
    "print(n, \"x 3 =\", n*3)\n",
    "print(n, \"x 4 =\", n*4 )\n",
    "print(n, \"x 5 =\", n*5 )\n",
    "print(n, \"x 6 =\", n*6 )"
   ]
  },
  {
   "cell_type": "code",
   "execution_count": 13,
   "metadata": {},
   "outputs": [
    {
     "ename": "TypeError",
     "evalue": "can only concatenate str (not \"int\") to str",
     "output_type": "error",
     "traceback": [
      "\u001b[1;31m---------------------------------------------------------------------------\u001b[0m",
      "\u001b[1;31mTypeError\u001b[0m                                 Traceback (most recent call last)",
      "Cell \u001b[1;32mIn[13], line 3\u001b[0m\n\u001b[0;32m      1\u001b[0m name \u001b[38;5;241m=\u001b[39m \u001b[38;5;28minput\u001b[39m()\n\u001b[0;32m      2\u001b[0m age \u001b[38;5;241m=\u001b[39m \u001b[38;5;28mint\u001b[39m(\u001b[38;5;28minput\u001b[39m())\n\u001b[1;32m----> 3\u001b[0m \u001b[38;5;28mprint\u001b[39m(\u001b[38;5;124;43m\"\u001b[39;49m\u001b[38;5;124;43mHello \u001b[39;49m\u001b[38;5;124;43m\"\u001b[39;49m\u001b[43m \u001b[49m\u001b[38;5;241;43m+\u001b[39;49m\u001b[43m \u001b[49m\u001b[43mname\u001b[49m\u001b[43m \u001b[49m\u001b[38;5;241;43m+\u001b[39;49m\u001b[43m \u001b[49m\u001b[38;5;124;43m\"\u001b[39;49m\u001b[38;5;124;43m, you are\u001b[39;49m\u001b[38;5;124;43m\"\u001b[39;49m\u001b[43m \u001b[49m\u001b[38;5;241;43m+\u001b[39;49m\u001b[43m \u001b[49m\u001b[43mage\u001b[49m \u001b[38;5;241m+\u001b[39m \u001b[38;5;124m\"\u001b[39m\u001b[38;5;124myears old\u001b[39m\u001b[38;5;124m\"\u001b[39m)\n",
      "\u001b[1;31mTypeError\u001b[0m: can only concatenate str (not \"int\") to str"
     ]
    }
   ],
   "source": [
    "name = input()\n",
    "age = int(input())\n",
    "print(\"Hello \" + name + \", you are\" + age + \"years old\")"
   ]
  },
  {
   "cell_type": "code",
   "execution_count": 14,
   "metadata": {},
   "outputs": [],
   "source": [
    "a = [\"Juke\", \"King\", \"Hearts\", \"68\", \"Kite\"]"
   ]
  },
  {
   "cell_type": "code",
   "execution_count": 20,
   "metadata": {},
   "outputs": [
    {
     "data": {
      "text/plain": [
       "['Kite', 'Hearts', 'Juke']"
      ]
     },
     "execution_count": 20,
     "metadata": {},
     "output_type": "execute_result"
    }
   ],
   "source": [
    "a[-1::-2]"
   ]
  },
  {
   "cell_type": "code",
   "execution_count": 22,
   "metadata": {},
   "outputs": [
    {
     "name": "stdout",
     "output_type": "stream",
     "text": [
      "['a', 'b', 'c', 'd', 'e', 'f', 'g']\n"
     ]
    }
   ],
   "source": [
    "a = input().split()\n",
    "print(a)"
   ]
  },
  {
   "cell_type": "markdown",
   "metadata": {},
   "source": [
    "LOOPS"
   ]
  },
  {
   "cell_type": "code",
   "execution_count": 23,
   "metadata": {},
   "outputs": [
    {
     "name": "stdout",
     "output_type": "stream",
     "text": [
      "0\n",
      "1\n",
      "2\n",
      "3\n",
      "4\n",
      "5\n",
      "6\n",
      "7\n",
      "8\n",
      "9\n"
     ]
    }
   ],
   "source": [
    "#while loop\n",
    "count = 0\n",
    "while count <10:\n",
    "    print(count)\n",
    "    count += 1"
   ]
  },
  {
   "cell_type": "code",
   "execution_count": 25,
   "metadata": {},
   "outputs": [
    {
     "name": "stdout",
     "output_type": "stream",
     "text": [
      "11\n",
      "13\n",
      "15\n",
      "17\n",
      "19\n"
     ]
    }
   ],
   "source": [
    "#odd number from 10 to 20\n",
    "a = 10\n",
    "while a<= 20:\n",
    "    if a%2 != 0:\n",
    "        print(a)\n",
    "    a +=1"
   ]
  },
  {
   "cell_type": "code",
   "execution_count": 26,
   "metadata": {},
   "outputs": [
    {
     "name": "stdout",
     "output_type": "stream",
     "text": [
      "2\n",
      "4\n",
      "8\n",
      "16\n",
      "32\n",
      "64\n",
      "128\n"
     ]
    }
   ],
   "source": [
    "#power of 2 from 2 to 128\n",
    "a = 2\n",
    "while a <= 128:\n",
    "    print(a)\n",
    "    a = a*2"
   ]
  },
  {
   "cell_type": "code",
   "execution_count": 28,
   "metadata": {},
   "outputs": [
    {
     "name": "stdout",
     "output_type": "stream",
     "text": [
      "3\n"
     ]
    }
   ],
   "source": [
    "a = \"bolloon\"\n",
    "count = 0\n",
    "for v in a:\n",
    "    if v == \"o\":\n",
    "        count += 1\n",
    "\n",
    "print(count)"
   ]
  },
  {
   "cell_type": "code",
   "execution_count": 35,
   "metadata": {},
   "outputs": [
    {
     "name": "stdout",
     "output_type": "stream",
     "text": [
      "30\n",
      "29\n",
      "28\n",
      "27\n",
      "26\n",
      "25\n",
      "24\n",
      "23\n",
      "22\n",
      "21\n",
      "20\n",
      "19\n",
      "18\n",
      "17\n",
      "16\n",
      "15\n",
      "14\n",
      "13\n",
      "12\n",
      "11\n",
      "10\n",
      "9\n",
      "8\n",
      "7\n",
      "6\n",
      "5\n"
     ]
    }
   ],
   "source": [
    "for i in range(30,4,-1):\n",
    "    print(i)"
   ]
  },
  {
   "cell_type": "code",
   "execution_count": 39,
   "metadata": {},
   "outputs": [
    {
     "name": "stdout",
     "output_type": "stream",
     "text": [
      "9 X 1 =  9\n",
      "9 X 2 =  18\n",
      "9 X 3 =  27\n",
      "9 X 4 =  36\n",
      "9 X 5 =  45\n",
      "9 X 6 =  54\n",
      "9 X 7 =  63\n",
      "9 X 8 =  72\n",
      "9 X 9 =  81\n",
      "9 X 10 =  90\n"
     ]
    }
   ],
   "source": [
    "#table\n",
    "n = int(input())\n",
    "for i in range(1,11):\n",
    "    print(f\"{n} X {i} = \", n*i)"
   ]
  },
  {
   "cell_type": "code",
   "execution_count": null,
   "metadata": {},
   "outputs": [
    {
     "ename": "NameError",
     "evalue": "name 'f' is not defined",
     "output_type": "error",
     "traceback": [
      "\u001b[1;31m---------------------------------------------------------------------------\u001b[0m",
      "\u001b[1;31mNameError\u001b[0m                                 Traceback (most recent call last)",
      "Cell \u001b[1;32mIn[48], line 4\u001b[0m\n\u001b[0;32m      2\u001b[0m i \u001b[38;5;241m=\u001b[39m n\n\u001b[0;32m      3\u001b[0m \u001b[38;5;28;01mwhile\u001b[39;00m i \u001b[38;5;241m>\u001b[39m \u001b[38;5;241m1\u001b[39m:\n\u001b[1;32m----> 4\u001b[0m     f \u001b[38;5;241m=\u001b[39m \u001b[38;5;241m1\u001b[39m\u001b[38;5;241m*\u001b[39m\u001b[43mf\u001b[49m\n\u001b[0;32m      5\u001b[0m     \u001b[38;5;28mprint\u001b[39m(f)\n\u001b[0;32m      6\u001b[0m     i \u001b[38;5;241m-\u001b[39m\u001b[38;5;241m=\u001b[39m \u001b[38;5;241m1\u001b[39m\n",
      "\u001b[1;31mNameError\u001b[0m: name 'f' is not defined"
     ]
    }
   ],
   "source": [
    "n = int(input())\n",
    "f = 1\n",
    "while n > 1:\n",
    "    f = 1*f\n",
    "    print(f)\n",
    "    i -= 1\n",
    "\n",
    "print(n)"
   ]
  },
  {
   "cell_type": "code",
   "execution_count": 52,
   "metadata": {},
   "outputs": [
    {
     "name": "stdout",
     "output_type": "stream",
     "text": [
      "720\n"
     ]
    }
   ],
   "source": [
    "n = int(input())\n",
    "factorial = 1\n",
    "while n>1:\n",
    "    factorial = factorial * n\n",
    "    n -=1\n",
    "print(factorial)"
   ]
  },
  {
   "cell_type": "code",
   "execution_count": 53,
   "metadata": {},
   "outputs": [
    {
     "name": "stdout",
     "output_type": "stream",
     "text": [
      "15\n"
     ]
    }
   ],
   "source": [
    "#sum of n integers\n",
    "a = 0\n",
    "n = 5\n",
    "for i in range(n+1):\n",
    "    a = a+i\n",
    "\n",
    "print(a)\n"
   ]
  },
  {
   "cell_type": "code",
   "execution_count": 55,
   "metadata": {},
   "outputs": [
    {
     "name": "stdout",
     "output_type": "stream",
     "text": [
      "15\n"
     ]
    }
   ],
   "source": [
    "n = 5\n",
    "a = 0\n",
    "while n > 0:\n",
    "    a += n\n",
    "    n -= 1\n",
    "\n",
    "print(a)"
   ]
  },
  {
   "cell_type": "code",
   "execution_count": 56,
   "metadata": {},
   "outputs": [
    {
     "name": "stdout",
     "output_type": "stream",
     "text": [
      "120\n"
     ]
    }
   ],
   "source": [
    "n = 5\n",
    "a = 1\n",
    "while n > 0:\n",
    "    a *= n\n",
    "    n -= 1\n",
    "\n",
    "print(a)"
   ]
  },
  {
   "cell_type": "code",
   "execution_count": 58,
   "metadata": {},
   "outputs": [
    {
     "name": "stdout",
     "output_type": "stream",
     "text": [
      "4\n"
     ]
    }
   ],
   "source": [
    "#find count of digits\n",
    "n = 3246\n",
    "count = 0\n",
    "while n > 0:\n",
    "    n = n // 10\n",
    "    count += 1\n",
    "\n",
    "print(count)"
   ]
  }
 ],
 "metadata": {
  "kernelspec": {
   "display_name": "Python 3",
   "language": "python",
   "name": "python3"
  },
  "language_info": {
   "codemirror_mode": {
    "name": "ipython",
    "version": 3
   },
   "file_extension": ".py",
   "mimetype": "text/x-python",
   "name": "python",
   "nbconvert_exporter": "python",
   "pygments_lexer": "ipython3",
   "version": "3.13.0"
  }
 },
 "nbformat": 4,
 "nbformat_minor": 2
}
