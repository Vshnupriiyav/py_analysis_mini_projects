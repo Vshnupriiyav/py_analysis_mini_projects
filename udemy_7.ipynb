{
 "cells": [
  {
   "cell_type": "code",
   "execution_count": 1,
   "metadata": {},
   "outputs": [],
   "source": [
    "import pandas as pd"
   ]
  },
  {
   "cell_type": "code",
   "execution_count": 2,
   "metadata": {},
   "outputs": [],
   "source": [
    "df = pd.read_csv(r\"C:\\Users\\vshnu\\OneDrive\\Desktop\\Vishnuperson\\RE\\aspire_\\learn\\All_intro_projects\\da7_udemy.csv\")"
   ]
  },
  {
   "cell_type": "code",
   "execution_count": 3,
   "metadata": {},
   "outputs": [
    {
     "data": {
      "text/html": [
       "<div>\n",
       "<style scoped>\n",
       "    .dataframe tbody tr th:only-of-type {\n",
       "        vertical-align: middle;\n",
       "    }\n",
       "\n",
       "    .dataframe tbody tr th {\n",
       "        vertical-align: top;\n",
       "    }\n",
       "\n",
       "    .dataframe thead th {\n",
       "        text-align: right;\n",
       "    }\n",
       "</style>\n",
       "<table border=\"1\" class=\"dataframe\">\n",
       "  <thead>\n",
       "    <tr style=\"text-align: right;\">\n",
       "      <th></th>\n",
       "      <th>course_id</th>\n",
       "      <th>course_title</th>\n",
       "      <th>is_paid</th>\n",
       "      <th>price</th>\n",
       "      <th>num_subscribers</th>\n",
       "      <th>num_reviews</th>\n",
       "      <th>num_lectures</th>\n",
       "      <th>level</th>\n",
       "      <th>content_duration</th>\n",
       "      <th>published_timestamp</th>\n",
       "      <th>subject</th>\n",
       "    </tr>\n",
       "  </thead>\n",
       "  <tbody>\n",
       "    <tr>\n",
       "      <th>0</th>\n",
       "      <td>288942</td>\n",
       "      <td>#1 Piano Hand Coordination: Play 10th Ballad i...</td>\n",
       "      <td>True</td>\n",
       "      <td>35</td>\n",
       "      <td>3137</td>\n",
       "      <td>18</td>\n",
       "      <td>68</td>\n",
       "      <td>All Levels</td>\n",
       "      <td>1.5 hours</td>\n",
       "      <td>2014-09-18T05:07:05Z</td>\n",
       "      <td>Musical Instruments</td>\n",
       "    </tr>\n",
       "    <tr>\n",
       "      <th>1</th>\n",
       "      <td>1170074</td>\n",
       "      <td>#10 Hand Coordination - Transfer Chord Ballad ...</td>\n",
       "      <td>True</td>\n",
       "      <td>75</td>\n",
       "      <td>1593</td>\n",
       "      <td>1</td>\n",
       "      <td>41</td>\n",
       "      <td>Intermediate Level</td>\n",
       "      <td>1 hour</td>\n",
       "      <td>2017-04-12T19:06:34Z</td>\n",
       "      <td>Musical Instruments</td>\n",
       "    </tr>\n",
       "  </tbody>\n",
       "</table>\n",
       "</div>"
      ],
      "text/plain": [
       "   course_id                                       course_title  is_paid  \\\n",
       "0     288942  #1 Piano Hand Coordination: Play 10th Ballad i...     True   \n",
       "1    1170074  #10 Hand Coordination - Transfer Chord Ballad ...     True   \n",
       "\n",
       "  price  num_subscribers  num_reviews  num_lectures               level  \\\n",
       "0    35             3137           18            68          All Levels   \n",
       "1    75             1593            1            41  Intermediate Level   \n",
       "\n",
       "  content_duration   published_timestamp              subject  \n",
       "0        1.5 hours  2014-09-18T05:07:05Z  Musical Instruments  \n",
       "1           1 hour  2017-04-12T19:06:34Z  Musical Instruments  "
      ]
     },
     "execution_count": 3,
     "metadata": {},
     "output_type": "execute_result"
    }
   ],
   "source": [
    "df.head(2)"
   ]
  },
  {
   "cell_type": "code",
   "execution_count": 5,
   "metadata": {},
   "outputs": [
    {
     "name": "stdout",
     "output_type": "stream",
     "text": [
      "<class 'pandas.core.frame.DataFrame'>\n",
      "RangeIndex: 3682 entries, 0 to 3681\n",
      "Data columns (total 11 columns):\n",
      " #   Column               Non-Null Count  Dtype \n",
      "---  ------               --------------  ----- \n",
      " 0   course_id            3682 non-null   int64 \n",
      " 1   course_title         3682 non-null   object\n",
      " 2   is_paid              3682 non-null   bool  \n",
      " 3   price                3682 non-null   object\n",
      " 4   num_subscribers      3682 non-null   int64 \n",
      " 5   num_reviews          3682 non-null   int64 \n",
      " 6   num_lectures         3682 non-null   int64 \n",
      " 7   level                3682 non-null   object\n",
      " 8   content_duration     3682 non-null   object\n",
      " 9   published_timestamp  3682 non-null   object\n",
      " 10  subject              3682 non-null   object\n",
      "dtypes: bool(1), int64(4), object(6)\n",
      "memory usage: 291.4+ KB\n"
     ]
    }
   ],
   "source": [
    "df.info()"
   ]
  },
  {
   "cell_type": "markdown",
   "metadata": {},
   "source": [
    "#### 1) What are all different subjects for which Udemy is offering courses ?"
   ]
  },
  {
   "cell_type": "code",
   "execution_count": 6,
   "metadata": {},
   "outputs": [
    {
     "data": {
      "text/plain": [
       "array(['Musical Instruments', 'Business Finance', 'Graphic Design',\n",
       "       'Web Development'], dtype=object)"
      ]
     },
     "execution_count": 6,
     "metadata": {},
     "output_type": "execute_result"
    }
   ],
   "source": [
    "df[\"subject\"].unique()"
   ]
  },
  {
   "cell_type": "markdown",
   "metadata": {},
   "source": [
    "#### 2) Which subject has the maximum number of courses."
   ]
  },
  {
   "cell_type": "code",
   "execution_count": 13,
   "metadata": {},
   "outputs": [
    {
     "name": "stdout",
     "output_type": "stream",
     "text": [
      "subject\n",
      "Web Development        1200\n",
      "Business Finance       1199\n",
      "Musical Instruments     680\n",
      "Graphic Design          603\n",
      "Name: course_id, dtype: int64\n",
      "subject has the maximum number of courses is Business Finance\n"
     ]
    }
   ],
   "source": [
    "num_course_per_sub = df.groupby(\"subject\").course_id.count()\n",
    "print(num_course_per_sub.sort_values(ascending=False))\n",
    "print(\"subject has the maximum number of courses is\",num_course_per_sub.index[0])"
   ]
  },
  {
   "cell_type": "markdown",
   "metadata": {},
   "source": [
    "#### 3) Show all the courses which are Free of Cost."
   ]
  },
  {
   "cell_type": "code",
   "execution_count": 14,
   "metadata": {},
   "outputs": [
    {
     "data": {
      "text/plain": [
       "array(['35', '75', '65', '200', '25', '100', '20', '40', '30', '45',\n",
       "       '185', '120', '105', '50', 'Free', '145', '55', '85', '110', '150',\n",
       "       '95', '180', '125', '60', '90', '195', '80', '70', '140', '190',\n",
       "       '115', '130', '170', '175', '165', '135', '155', '160'],\n",
       "      dtype=object)"
      ]
     },
     "execution_count": 14,
     "metadata": {},
     "output_type": "execute_result"
    }
   ],
   "source": [
    "df[\"price\"].unique()"
   ]
  },
  {
   "cell_type": "code",
   "execution_count": 16,
   "metadata": {},
   "outputs": [
    {
     "data": {
      "text/plain": [
       "array(['5 lecciones que todo guitarrista debe tomar',\n",
       "       '7 Ways A Beginner Guitarist Can Sound Better, Instantly!',\n",
       "       \"A beginner`s guide to fingerpicking and strumming guitar'\",\n",
       "       'A how to guide in HTML',\n",
       "       '¡Triunfar en La Bolsa de Valores No Requiere de Experiencia!',\n",
       "       'สอนเทรดไบนารี่ อ๊อฟชั่นอย่างง่าย',\n",
       "       'Accounting Basics by Hector Garcia, CPA',\n",
       "       'Accounting in 60 Minutes - A Brief Introduction',\n",
       "       'Acoustic Blues Guitar Lessons', 'Acoustic Guitar Basics',\n",
       "       'Adobe Illustrator Course in Urdu Basics Level Training',\n",
       "       'Adobe Indesign CC Başlangıç', 'ブルースギター入門',\n",
       "       'Angular 2 Routing: Up And Running',\n",
       "       'Angular Material - Quickstart', 'Angular Tutorial For Beginners',\n",
       "       'AngularJS Authentication: Secure Your App with Auth0',\n",
       "       'AngularJS For Beginners',\n",
       "       'Apply finance concepts for smart project management',\n",
       "       'Aprenda Modelagem 3D com o 123D Design',\n",
       "       'Aprendiendo Piano: Ejercicios de calentamiento',\n",
       "       'ASP.Net MVC Quick Start',\n",
       "       'AutoCAD Course - Learn Online AutoCAD in Urdu Hindi',\n",
       "       'Become A Forex Trader - Forex trading like a professional',\n",
       "       'Become a HTML and CSS Developer - Build a Responsive Site',\n",
       "       'Beginner Guitar Quick-Start Course',\n",
       "       'Beginner Photoshop to HTML5 and CSS3',\n",
       "       'Beginner Violin 101: Care, Maintenance, and the Right Gear',\n",
       "       'Beginners Binary Options Course', 'Beginners Forex strategy',\n",
       "       'Beginners Guide to Stock Market Investing',\n",
       "       \"Beginner's Guitar: Tuning, Strumming, and Chords!\",\n",
       "       'Beginning Oracle WebLogic for Administrators',\n",
       "       'Binary Beginners Mastery Strategy.',\n",
       "       'Binary Options Course - Level 2',\n",
       "       'Binary, Forex, Stock and Bitcoin Trading Strategy',\n",
       "       'Bitcoin for Accountants',\n",
       "       'Bitcoin For Beginners: Your Quick Start Guide To Bitcoin',\n",
       "       'Bitcoin or How I Learned to Stop Worrying and Love Crypto',\n",
       "       'Bluegrass Guitar Essentials: Webisodes 1 & 2',\n",
       "       \"Blues Master - Beginner's Techniques Piano Course\",\n",
       "       'Bootstrap 4 Quick Start: Code Modern Responsive Websites',\n",
       "       'Budgeting Hacks to Build Wealth!',\n",
       "       'Build a DCF Model from Scratch',\n",
       "       'Build a Responsive Website with a Modern Flat Design',\n",
       "       'Build and Deploy a LAMP server on AWS',\n",
       "       'Build CRUD Application - PHP & Mysql',\n",
       "       'Build Responsive Websites  in an Hour using Portalfin',\n",
       "       'Build Your First Website in 1 Week with HTML5 and CSS3',\n",
       "       'Building a Ruby on Rails Application with Neo4j',\n",
       "       'Building a Search Engine in PHP & MySQL',\n",
       "       '画像加工の初心者でも「１日」で初歩を覚えられる無料講座', 'Cómo crear maquetas con Adobe XD',\n",
       "       'Cómo ganar dinero invirtiendo en bolsa',\n",
       "       'Canva: Design Album Cover Artwork in Minutes - No More Fees!',\n",
       "       'Chrome Extensions : Develop 5 chrome extensions from scratch',\n",
       "       \"Code a 'Coming Soon' Landing Page in Bootstrap 4\",\n",
       "       'Coding for Entrepreneurs Basic',\n",
       "       'Como Investir em Ações para Iniciantes',\n",
       "       'Complete Bootstrap 4 course - build 3 projects',\n",
       "       'Complete Web Development with HTML, CSS and Javascript',\n",
       "       'Complete WooCommerce Plugin Tutorial For Wordpress 2017',\n",
       "       'Condor Broken Wing Butterfly Options Trading Course System',\n",
       "       'Convert Image to Vector in Adobe illustrator',\n",
       "       'Corporate Finance - A Brief Introduction',\n",
       "       'Cost of Capital and Weighted Average Cost of Capital',\n",
       "       'Crash Course on Cost of Capital and Capital Structuring',\n",
       "       'Creare un logo con Adobe Illustrator',\n",
       "       'Create a Powerful Website with the Cool Bootstrap Framework',\n",
       "       'Create a Professional Website Without Programming/Coding',\n",
       "       'Create a Simple Photo Gallery with Dropzonejs, Slick and PHP',\n",
       "       'Create An HTML5 Video Player From Scratch',\n",
       "       'Create Startup Landing Page with Viral Marketing Strategies',\n",
       "       'Create Stunning Infographics to Share your Ideas',\n",
       "       'Create Website from scratch in Urdu & Hindi',\n",
       "       'Critical Web Dev Skills & Tools for the Non-Tech Hustler',\n",
       "       'CSS Image filters - The modern web images color manipulation',\n",
       "       'CurrencyFair - Avoid Bank Charges when converting currencies',\n",
       "       'Curso de Day Trader para Iniciantes',\n",
       "       'Customizr - Learn WordPress with the ultimate creative theme',\n",
       "       'Darbuka Drumming: Learn how to play the Darbuka Dounbek',\n",
       "       'Day Trading Market Structure Signals',\n",
       "       'Deinen Roman setzen mit PagePlus in 10 einfachen Schritten',\n",
       "       'Demystifying Your Personal Tax Return',\n",
       "       'Devtools 2017: The Basics of Chrome Developer Tools',\n",
       "       'Digital Art in Adobe Illustrator CC: Angry Bird, Tom & Jerry',\n",
       "       'Dive Into Docker: The Docker Course for Developers',\n",
       "       'Draw a Kitten', 'Draw a realistic Fantail using pencil',\n",
       "       'Drums for Beginners', 'Drupal 8 Site Building', '财务分析与估值建模入门',\n",
       "       'EMMET Faster HTML & CSS workflow - Best Tool For Developers ',\n",
       "       'ES6 / EcmaScript 6 for beginners an introduction',\n",
       "       'Essential Theory and Technique for Guitar',\n",
       "       'ExpressJS Fundamentals', 'Ferramentas Visuais',\n",
       "       'Figure Drawing From Life Using The Reilly Technique.',\n",
       "       'Financial Accounting - A Brief Introduction',\n",
       "       'Financial Analysis:  A Recipe for Success',\n",
       "       'Financial Modeling 101',\n",
       "       'Fingerstyle Guitar Mastery: 3 Techniques You Need To Know',\n",
       "       'Flask Tutorial Step by Step',\n",
       "       'Forex & Financial Market Trading Tutorial- Online Strategies',\n",
       "       'Forex Basics',\n",
       "       'Forex for Beginners: Easy Forex Trading for Beginners',\n",
       "       'Forex Trading For Beginners ',\n",
       "       'Forex Trading For Beginners: Technical Trading',\n",
       "       \"Forex: What's a Trend and When it is Strong and Reliable\",\n",
       "       'Foundations of Front-End Web Development',\n",
       "       'Free Beginner Electric Guitar Lessons',\n",
       "       'Free Options 101 - Basic of Call and Put Options in 1 Hours',\n",
       "       'Fun and creative web engineering with Python and Web2py',\n",
       "       'Fundamentals of Forex Trading',\n",
       "       'Futures/Commodity Training (Basics)',\n",
       "       'Get started playing blues harmonica',\n",
       "       'Getting Started as a Web Developer',\n",
       "       'Getting Started with Angular 2+',\n",
       "       'Getting Started with Playing Guitar',\n",
       "       'Getting Started with the Guitar in 5 Days',\n",
       "       'Graphic Design - An Overview of the Field',\n",
       "       'Grundlagen der finanziellen Unabhängigkeit',\n",
       "       'Guía práctica para comprar acciones en la Bolsa de USA',\n",
       "       'Guitar Crash Course (No Experience Necessary)',\n",
       "       'Guitar Kick Start',\n",
       "       'Guitar Lessons - String Bending And Vibrato Essentials',\n",
       "       'Guitar Lessons: The Essential Beginner & Intermediate Course',\n",
       "       'Hedge Fund Trading System', 'How I Trade Forex Successfully',\n",
       "       'How To Build And Make A Wordpress Website From Scratch 2017',\n",
       "       'How To Create a Local Wordpress Environment',\n",
       "       'How To Create A Real Estate Website With Wordpress 2017',\n",
       "       'How to design a business card on Photoshop (for beginners)',\n",
       "       'How to Design an Awesome Letterhead in Adobe Illustrator',\n",
       "       'How to Install WordPress From Scratch',\n",
       "       'How to Invest in Startups - Expert Reveals Winning Secrets.',\n",
       "       'How To Make A Modern Wordpress BLOG 2017! Create Your Blog!',\n",
       "       'How to Make a Single Page Website for Freelancers & Agencies',\n",
       "       'How to Make a Video Blog Website From Scratch w/ Wordpress ',\n",
       "       'How To Make A Web Page With No Code',\n",
       "       'How to Make a Wordpress Website 2017',\n",
       "       'How To Make an eCommerce Website With Wordpress 2017',\n",
       "       'How to Make an Online Portfolio Website from Scratch ',\n",
       "       'How To Play Blues Guitar - Broonzy & McGhee Blues Lessons',\n",
       "       'How to Play Piano - Your First Lesson!',\n",
       "       'How To Profit From Stock Market Volatility',\n",
       "       'How To Set Up A Limited Company In The UK',\n",
       "       'How to Set Up a Self-Hosted Wordpress Website in 30 Minutes',\n",
       "       'How To Setup Web Hosting',\n",
       "       'How to start a successful career in finance?',\n",
       "       'How to Start a WordPress Blog - Complete Beginners Guide!',\n",
       "       'How to stylize your photos in Photoshop with color overlays',\n",
       "       'HTML and CSS for Absolute Beginners',\n",
       "       'HTML and CSS for Beginners - Build a Website & Launch ONLINE',\n",
       "       'HTML and CSS Foundations',\n",
       "       'HTML Complete Course - Beginner to Expert', 'HTML for Beginners',\n",
       "       'HTML Introduction Course: Learn HTML in 2 hours!!!',\n",
       "       'IAS 10 - Events After Reporting Date',\n",
       "       'IAS 12 - Accounting for Income Taxes (Basics)',\n",
       "       'IAS 16-Property,Plant and Equipment ', 'IAS 18 - Revenue',\n",
       "       'IAS 1-Presentation of Financial Statements ',\n",
       "       'IAS 8-Accounting Policies ,Changes in Accounting Estimates',\n",
       "       'IAS37 - Provisions, Contingents Liabilities & Assets',\n",
       "       'IFRIC 13-Customer Loyalty Programmes (Revenue)',\n",
       "       'Illustrator Quick Tip：10分でKawaiiカメレオンを描こう',\n",
       "       'Improve Your Financial Literacy',\n",
       "       'Improved SEO with Rich Snippets and MicroData',\n",
       "       'Install WordPress on Computer using XAMPP',\n",
       "       'Interpreting financial statements',\n",
       "       'Introduction to Corporate Finance (Mergers & Acquisitions)',\n",
       "       'Introduction to Cryptocurrencies and Blockchain',\n",
       "       'Introduction to CSS Development',\n",
       "       'Introduction to Digital Payments ', 'Introduction to Elm',\n",
       "       'Introduction to Equity Markets',\n",
       "       'Introduction to Financial Modeling', 'Introduction to HTML',\n",
       "       'Introduction to Laravel 4',\n",
       "       'Introduction to Piano - By PGN Piano!',\n",
       "       'Introduction to the CFA Program',\n",
       "       'Introduction to Value Growth Investing',\n",
       "       \"Introduction to Voice Design with Amazon's Alexa\",\n",
       "       'Introductory Forex Trading Course',\n",
       "       'Investment Crowdfunding 101 (a.k.a Equity Crowdfunding)',\n",
       "       'Javascript Essentials', 'JavaScript Fundamentals',\n",
       "       'JavaScript Game Development: Create Your Own Breakout Game',\n",
       "       'Jazz Guitar Tips, Tricks and Licks', 'Joomla 3 - The Basics',\n",
       "       'Joomla: Create a Joomla Website This Weekend With NO CODING!',\n",
       "       'Laravel Blog Development Starter',\n",
       "       'Laravel Deployment - Launch your Laravel Application Online',\n",
       "       'Laravel Homestead', 'Learn Angular 4 from Scratch',\n",
       "       'Learn Bootstrap 4 by Example',\n",
       "       'Learn Bootstrap3 With Multi Purposes Single Page Layout',\n",
       "       'Learn Comic Book Color Flatting! (Coloring Assistant role)',\n",
       "       'Learn E-Commerce Website in PHP & MySQL From Scratch!',\n",
       "       'Learn How To Build a Web Application Without Coding',\n",
       "       'Learn how to create a WordPress theme using Pinegrow',\n",
       "       'Learn how to quickly build websites using Wordpress',\n",
       "       'Learn How to Trade Binary Options Professionally',\n",
       "       'Learn HTML & CSS: How To Start Your Web Development Career',\n",
       "       'Learn HTML And CSS From Scratch',\n",
       "       'Learn HTML Basics From Scratch', 'Learn HTML in 2 hours!',\n",
       "       'Learn HTML5 Programming From Scratch',\n",
       "       'Learn Illustrator By Recreating Top 3 Logos - Beginner Guide',\n",
       "       'Learn Monster GODJ',\n",
       "       'Learn Object Oriented PHP By Building a Complete Website',\n",
       "       'Learn PHP Fundamentals From Scratch',\n",
       "       'Learn Responsive Web Development from Scratch',\n",
       "       'Learn to Build Websites using Twitter Bootstrap',\n",
       "       'Learn to Create Responsive Layouts in 30 Minutes',\n",
       "       'Learn to Design a Letterhead - A Beginners Course',\n",
       "       'Learn to Make an Animated Image Gallery using HTML5',\n",
       "       'Learn to Play Harp: Beginners Course',\n",
       "       'Learn to play in the Key of G on any Bluegrass Instrument',\n",
       "       'Learn to Play Tabla - The Indian drums',\n",
       "       'Learn to Setup Websites from Scratch',\n",
       "       'Learn to Trade Forex Naked Price Action Big Shadow Trade',\n",
       "       'Learn to Use jQuery UI Widgets',\n",
       "       'Learn Wave accounting to maintain books properly',\n",
       "       \"Learn what's new in PHP 7\",\n",
       "       'Make yourself a Santa Claus: Photoshop Manipulation',\n",
       "       'Making Tax Digital - UK HMRC Legislation Explained',\n",
       "       'Master ECMAScript 2015 (ES6)',\n",
       "       'Master the Basics of HTML5 & CSS3: Beginner Web Development',\n",
       "       'Master WordPress Plugins: Shortcodes Ultimate - The Basics',\n",
       "       'Mastering Basic CSS Selectors.', 'Mastering CSS 3.0 Selectors',\n",
       "       'Mental Models For Wall Street - Become A Better Trader',\n",
       "       'MetaTrader4 Platform Training',\n",
       "       'MongooseJS Essentials - Learn MongoDB for Node.js',\n",
       "       'Most Wanted Flat Design Techniques #1: Desert Island',\n",
       "       'Multiply your returns using \\'Value Investing\",https://www.udemy.com/multiply-your-returns-using-value-investing/,true,20,1942,19,63,All Levels,4.5 hours,2015-07-23T00:08:33Z\\n874284,Weekly Forex Analysis by Baraq FX\"',\n",
       "       'الدروس التعليمية لسوق الفوركس والأسواق المالية الأخرى',\n",
       "       'Optimizing investment to maximise your return',\n",
       "       'Optimizing Wordpress for More Speed and Revenue',\n",
       "       'Options Trading 101: The Basics',\n",
       "       'Options Trading Essentials: The ULTIMATE Guides',\n",
       "       'Pentatonic Scale Crash Course for Bass Guitar',\n",
       "       'Photoshop & Illustrator CC Essentials in Arabic',\n",
       "       'Photoshop CC 2015 Top New Features',\n",
       "       'Photoshop Essentials - Uma Introdução Detalhada',\n",
       "       \"Photoshop In-Depth: Master all of Photoshop's Tools Easily\",\n",
       "       'PI-101 Top 10 Classical Piano Pieces for Beginners',\n",
       "       'Piano Building Blocks: Learn Chord Additions & Variations',\n",
       "       'Piano Music Theory (Back To Basics) by JFilt',\n",
       "       'Piano Tutorial : Ludovico Einaudi - Una Mattina',\n",
       "       'Play Piano in 30 Days! - Start Playing NOW!',\n",
       "       'Practical PHP: Master the Basics and Code Dynamic Websites',\n",
       "       'Practical Understanding of PHP and MySQL',\n",
       "       'Preparation of Consolidated Financial Statements (Basic)',\n",
       "       'Primeros Pasos con Photoshop CC',\n",
       "       'Professional Logo Design in Adobe Illustrator',\n",
       "       'PSD To a Creative Landing Page Using Twitter Bootstrap 3',\n",
       "       'Quickstart AngularJS',\n",
       "       'Quote Images for Pinterest, Facebook, & Instagram',\n",
       "       'React vs Angular vs Vue.js by Example',\n",
       "       'REST WCF Service in ASP.NET',\n",
       "       'Rock Solid Wordpress Security - Secure Web Development',\n",
       "       'Ruby on Rails a Beginners Guide ',\n",
       "       'SAP Crystal Reports with ASP.Net (Step by step)', 'Sass Workflow',\n",
       "       'Serverless Architecture on Amazon Web Services',\n",
       "       'Serverless Workflow Management with AWS Step Functions',\n",
       "       'Silver, Gold, and Inflation',\n",
       "       'Simple And Easy: Wordpress For Beginners',\n",
       "       'Spring Framework 4 And Dependency Injection For Beginners',\n",
       "       'Start Making Comics with Manga Studio 5 / Clip Studio Paint',\n",
       "       'Stock Market Foundations', 'Stock Market Investing for Beginners',\n",
       "       'Stocks: Quick Method to get started Investing',\n",
       "       'Strumming from scratch - Rhythm guitar lesson for Beginners',\n",
       "       'Studying the CFA Program exams (Mandarin language version)',\n",
       "       \"Succeed in Futures Even if You Don't Know Where to Start\",\n",
       "       \"Succeed in Stocks Even if you Don't Know Where to Start\",\n",
       "       'Surviving Introduction to Finance',\n",
       "       'Tenor Banjo for Absolute Beginners',\n",
       "       'The 80/20 Guitar: Write Music and Play Guitar in 30 Days',\n",
       "       'The Advanced Forex Course for Smart Traders',\n",
       "       \"The Beginner's Guide to the Futures and Options Trading\",\n",
       "       'The Binary Institute - Introductory Course in Binary Options',\n",
       "       'The Essentials of Acoustic Guitar Strumming Patterns',\n",
       "       'The Tax Advantaged Investor: A Guide to Legal Tax Reduction!',\n",
       "       \"The Total Beginner's Guitar Course\",\n",
       "       'Trading for Beginners - Entry Level',\n",
       "       'Trading Options For Consistent Returns: Options Basics',\n",
       "       'Ukelele exprés: aprende a tocar en menos de un mes',\n",
       "       'Ultimate JavaScript Strings', 'Up and Running with jQuery',\n",
       "       'Use Crowdfunding Effectively With Indiegogo and Kickstarter',\n",
       "       'Voxel 3D Model Creation Course',\n",
       "       'Web Design for Web Developers: Build Beautiful Websites!',\n",
       "       'Web Development By Doing: HTML / CSS From Scratch',\n",
       "       'Web Hosting Introduction: How to Publish Your Website Online',\n",
       "       'Web Hosting Set Up and WordPress Installation For Beginners',\n",
       "       'Website Investing 101 - Buying & Selling Online Businesses',\n",
       "       'What you can learn before Piano Lessons',\n",
       "       'WordPress Backup And Restore Fundamentals',\n",
       "       'Wordpress Beginner Tutorial: Build Your First Website',\n",
       "       'WordPress in under an hour - Create/manage your own website!',\n",
       "       'Wordpress Website Mastery 2017',\n",
       "       'Write quicker HTML5 and CSS 3; productivity hacks with emmet',\n",
       "       'Your First 10 Guitar Lessons - Learn how to play guitar',\n",
       "       \"Zoho Books Gestion Financière d'Entreprise pas à pas\"],\n",
       "      dtype=object)"
      ]
     },
     "execution_count": 16,
     "metadata": {},
     "output_type": "execute_result"
    }
   ],
   "source": [
    "df[df[\"price\"]==\"Free\"][\"course_title\"].unique()"
   ]
  },
  {
   "cell_type": "markdown",
   "metadata": {},
   "source": [
    "#### 4) Show all the courses which are Paid."
   ]
  },
  {
   "cell_type": "code",
   "execution_count": 18,
   "metadata": {},
   "outputs": [
    {
     "data": {
      "text/html": [
       "<div>\n",
       "<style scoped>\n",
       "    .dataframe tbody tr th:only-of-type {\n",
       "        vertical-align: middle;\n",
       "    }\n",
       "\n",
       "    .dataframe tbody tr th {\n",
       "        vertical-align: top;\n",
       "    }\n",
       "\n",
       "    .dataframe thead th {\n",
       "        text-align: right;\n",
       "    }\n",
       "</style>\n",
       "<table border=\"1\" class=\"dataframe\">\n",
       "  <thead>\n",
       "    <tr style=\"text-align: right;\">\n",
       "      <th></th>\n",
       "      <th>course_title</th>\n",
       "      <th>price</th>\n",
       "    </tr>\n",
       "  </thead>\n",
       "  <tbody>\n",
       "    <tr>\n",
       "      <th>0</th>\n",
       "      <td>#1 Piano Hand Coordination: Play 10th Ballad i...</td>\n",
       "      <td>35</td>\n",
       "    </tr>\n",
       "    <tr>\n",
       "      <th>1</th>\n",
       "      <td>#10 Hand Coordination - Transfer Chord Ballad ...</td>\n",
       "      <td>75</td>\n",
       "    </tr>\n",
       "    <tr>\n",
       "      <th>2</th>\n",
       "      <td>#12 Hand Coordination: Let your Hands dance wi...</td>\n",
       "      <td>75</td>\n",
       "    </tr>\n",
       "    <tr>\n",
       "      <th>3</th>\n",
       "      <td>#4 Piano Hand Coordination: Fun Piano Runs in ...</td>\n",
       "      <td>75</td>\n",
       "    </tr>\n",
       "    <tr>\n",
       "      <th>4</th>\n",
       "      <td>#5  Piano Hand Coordination:  Piano Runs in 2 ...</td>\n",
       "      <td>75</td>\n",
       "    </tr>\n",
       "    <tr>\n",
       "      <th>...</th>\n",
       "      <td>...</td>\n",
       "      <td>...</td>\n",
       "    </tr>\n",
       "    <tr>\n",
       "      <th>3676</th>\n",
       "      <td>Your First Successful Forex Trades - With Case...</td>\n",
       "      <td>200</td>\n",
       "    </tr>\n",
       "    <tr>\n",
       "      <th>3677</th>\n",
       "      <td>Your Own Site in 45 Min: The Complete Wordpres...</td>\n",
       "      <td>120</td>\n",
       "    </tr>\n",
       "    <tr>\n",
       "      <th>3678</th>\n",
       "      <td>Your Second Course on Piano: Two Handed Playing</td>\n",
       "      <td>70</td>\n",
       "    </tr>\n",
       "    <tr>\n",
       "      <th>3679</th>\n",
       "      <td>Zend Framework 2: Learn the PHP framework ZF2 ...</td>\n",
       "      <td>40</td>\n",
       "    </tr>\n",
       "    <tr>\n",
       "      <th>3681</th>\n",
       "      <td>Zombie Apocalypse Photoshop Actions</td>\n",
       "      <td>50</td>\n",
       "    </tr>\n",
       "  </tbody>\n",
       "</table>\n",
       "<p>3372 rows × 2 columns</p>\n",
       "</div>"
      ],
      "text/plain": [
       "                                           course_title price\n",
       "0     #1 Piano Hand Coordination: Play 10th Ballad i...    35\n",
       "1     #10 Hand Coordination - Transfer Chord Ballad ...    75\n",
       "2     #12 Hand Coordination: Let your Hands dance wi...    75\n",
       "3     #4 Piano Hand Coordination: Fun Piano Runs in ...    75\n",
       "4     #5  Piano Hand Coordination:  Piano Runs in 2 ...    75\n",
       "...                                                 ...   ...\n",
       "3676  Your First Successful Forex Trades - With Case...   200\n",
       "3677  Your Own Site in 45 Min: The Complete Wordpres...   120\n",
       "3678    Your Second Course on Piano: Two Handed Playing    70\n",
       "3679  Zend Framework 2: Learn the PHP framework ZF2 ...    40\n",
       "3681                Zombie Apocalypse Photoshop Actions    50\n",
       "\n",
       "[3372 rows x 2 columns]"
      ]
     },
     "execution_count": 18,
     "metadata": {},
     "output_type": "execute_result"
    }
   ],
   "source": [
    "df[df[\"price\"] != \"Free\"][[\"course_title\",\"price\"]]"
   ]
  },
  {
   "cell_type": "markdown",
   "metadata": {},
   "source": [
    "#### 5) Which are Top Selling Courses ?\n",
    "#### 6) Which are Least Selling Courses ?"
   ]
  },
  {
   "cell_type": "code",
   "execution_count": 19,
   "metadata": {},
   "outputs": [
    {
     "data": {
      "text/html": [
       "<div>\n",
       "<style scoped>\n",
       "    .dataframe tbody tr th:only-of-type {\n",
       "        vertical-align: middle;\n",
       "    }\n",
       "\n",
       "    .dataframe tbody tr th {\n",
       "        vertical-align: top;\n",
       "    }\n",
       "\n",
       "    .dataframe thead th {\n",
       "        text-align: right;\n",
       "    }\n",
       "</style>\n",
       "<table border=\"1\" class=\"dataframe\">\n",
       "  <thead>\n",
       "    <tr style=\"text-align: right;\">\n",
       "      <th></th>\n",
       "      <th>course_id</th>\n",
       "      <th>course_title</th>\n",
       "      <th>is_paid</th>\n",
       "      <th>price</th>\n",
       "      <th>num_subscribers</th>\n",
       "      <th>num_reviews</th>\n",
       "      <th>num_lectures</th>\n",
       "      <th>level</th>\n",
       "      <th>content_duration</th>\n",
       "      <th>published_timestamp</th>\n",
       "      <th>subject</th>\n",
       "    </tr>\n",
       "  </thead>\n",
       "  <tbody>\n",
       "    <tr>\n",
       "      <th>0</th>\n",
       "      <td>288942</td>\n",
       "      <td>#1 Piano Hand Coordination: Play 10th Ballad i...</td>\n",
       "      <td>True</td>\n",
       "      <td>35</td>\n",
       "      <td>3137</td>\n",
       "      <td>18</td>\n",
       "      <td>68</td>\n",
       "      <td>All Levels</td>\n",
       "      <td>1.5 hours</td>\n",
       "      <td>2014-09-18T05:07:05Z</td>\n",
       "      <td>Musical Instruments</td>\n",
       "    </tr>\n",
       "  </tbody>\n",
       "</table>\n",
       "</div>"
      ],
      "text/plain": [
       "   course_id                                       course_title  is_paid  \\\n",
       "0     288942  #1 Piano Hand Coordination: Play 10th Ballad i...     True   \n",
       "\n",
       "  price  num_subscribers  num_reviews  num_lectures       level  \\\n",
       "0    35             3137           18            68  All Levels   \n",
       "\n",
       "  content_duration   published_timestamp              subject  \n",
       "0        1.5 hours  2014-09-18T05:07:05Z  Musical Instruments  "
      ]
     },
     "execution_count": 19,
     "metadata": {},
     "output_type": "execute_result"
    }
   ],
   "source": [
    "df.head(1)"
   ]
  },
  {
   "cell_type": "code",
   "execution_count": 22,
   "metadata": {},
   "outputs": [
    {
     "data": {
      "text/plain": [
       "course_title\n",
       "Learn HTML5 Programming From Scratch                       268923\n",
       "Coding for Entrepreneurs Basic                             161029\n",
       "The Web Developer Bootcamp                                 121584\n",
       "Build Your First Website in 1 Week with HTML5 and CSS3     120291\n",
       "The Complete Web Developer Course 2.0                      114512\n",
       "                                                            ...  \n",
       "Super Textos con Photoshop                                      0\n",
       "Planning and Executing a Financial Statement Audit              0\n",
       "How to Invest Using ETFs from Former Wall Street Trader         0\n",
       "Adobe Photoshop pentru Social Media                             0\n",
       "4 Week Rhythm Mastery                                           0\n",
       "Name: num_subscribers, Length: 3667, dtype: int64"
      ]
     },
     "execution_count": 22,
     "metadata": {},
     "output_type": "execute_result"
    }
   ],
   "source": [
    "df.groupby(\"course_title\").num_subscribers.sum().sort_values(ascending=False)"
   ]
  },
  {
   "cell_type": "markdown",
   "metadata": {},
   "source": [
    "#### 7) Show all courses of Graphic Design where the price is below 100 ?"
   ]
  },
  {
   "cell_type": "code",
   "execution_count": 39,
   "metadata": {},
   "outputs": [
    {
     "data": {
      "text/plain": [
       "course_id               int64\n",
       "course_title           object\n",
       "is_paid                  bool\n",
       "price                  object\n",
       "num_subscribers         int64\n",
       "num_reviews             int64\n",
       "num_lectures            int64\n",
       "level                  object\n",
       "content_duration       object\n",
       "published_timestamp    object\n",
       "subject                object\n",
       "prices                  int64\n",
       "dtype: object"
      ]
     },
     "execution_count": 39,
     "metadata": {},
     "output_type": "execute_result"
    }
   ],
   "source": [
    "df.dtypes"
   ]
  },
  {
   "cell_type": "code",
   "execution_count": 38,
   "metadata": {},
   "outputs": [],
   "source": [
    "df[\"prices\"] = df[\"price\"].apply(lambda x: 0 if x == \"Free\" else int(x))"
   ]
  },
  {
   "cell_type": "code",
   "execution_count": 41,
   "metadata": {},
   "outputs": [
    {
     "name": "stdout",
     "output_type": "stream",
     "text": [
      "      course_id                                       course_title  is_paid  \\\n",
      "8        206592  :::Beginners Guide To Creating Amazing Images ...     True   \n",
      "20      1165268  15  Motion Graphic Elements in After Effect (S...     True   \n",
      "35      1164876  3DS MAX - Learn 3Ds MAX tutorial for Beginners...     True   \n",
      "39       599652                     48 Logo Designs and Techniques     True   \n",
      "52       794036       8 Stunden professionelles Cinema 4D Training     True   \n",
      "...         ...                                                ...      ...   \n",
      "3568     133968                 Web Elements Design With Photoshop     True   \n",
      "3588    1131780  Whiteboard Animation, Beginner To Expert - In ...     True   \n",
      "3639    1122306         Wordpress: Comment utiliser le thème FABLE     True   \n",
      "3671     144222  YOU can Draw, Shade and Paint a Mixed Media Gi...     True   \n",
      "3681     964478                Zombie Apocalypse Photoshop Actions     True   \n",
      "\n",
      "     price  num_subscribers  num_reviews  num_lectures               level  \\\n",
      "8       25               72            5            17      Beginner Level   \n",
      "20      30                8            0            20  Intermediate Level   \n",
      "35      20              785            2            29          All Levels   \n",
      "39      20              113            9            48          All Levels   \n",
      "52      50               18            1            38          All Levels   \n",
      "...    ...              ...          ...           ...                 ...   \n",
      "3568    45             5072           38            44          All Levels   \n",
      "3588    20             1343           25            16          All Levels   \n",
      "3639    20                1            0            10      Beginner Level   \n",
      "3671    30             1249           44            19      Beginner Level   \n",
      "3681    50               12            1            15          All Levels   \n",
      "\n",
      "     content_duration   published_timestamp         subject  prices  \n",
      "8              1 hour  2014-04-29T19:50:31Z  Graphic Design      25  \n",
      "20            3 hours  2017-04-11T04:27:34Z  Graphic Design      30  \n",
      "35          4.5 hours  2017-04-18T16:45:59Z  Graphic Design      20  \n",
      "39            9 hours  2015-09-15T00:23:14Z  Graphic Design      20  \n",
      "52          8.5 hours  2016-03-22T20:51:28Z  Graphic Design      50  \n",
      "...               ...                   ...             ...     ...  \n",
      "3568          5 hours  2014-10-21T19:18:12Z  Graphic Design      45  \n",
      "3588           1 hour  2017-03-14T20:52:30Z  Graphic Design      20  \n",
      "3639          39 mins  2017-03-07T16:53:27Z  Graphic Design      20  \n",
      "3671          3 hours  2014-01-28T02:30:26Z  Graphic Design      30  \n",
      "3681        1.5 hours  2016-09-26T22:19:48Z  Graphic Design      50  \n",
      "\n",
      "[485 rows x 12 columns]\n"
     ]
    }
   ],
   "source": [
    "a = df[(df[\"subject\"] == \"Graphic Design\") & (df[\"prices\"] < 100)]\n",
    "print(a)\n"
   ]
  },
  {
   "cell_type": "markdown",
   "metadata": {},
   "source": [
    "####  8) List out all the courses that are related to 'Python'."
   ]
  },
  {
   "cell_type": "code",
   "execution_count": 45,
   "metadata": {},
   "outputs": [
    {
     "data": {
      "text/html": [
       "<div>\n",
       "<style scoped>\n",
       "    .dataframe tbody tr th:only-of-type {\n",
       "        vertical-align: middle;\n",
       "    }\n",
       "\n",
       "    .dataframe tbody tr th {\n",
       "        vertical-align: top;\n",
       "    }\n",
       "\n",
       "    .dataframe thead th {\n",
       "        text-align: right;\n",
       "    }\n",
       "</style>\n",
       "<table border=\"1\" class=\"dataframe\">\n",
       "  <thead>\n",
       "    <tr style=\"text-align: right;\">\n",
       "      <th></th>\n",
       "      <th>course_id</th>\n",
       "      <th>course_title</th>\n",
       "      <th>is_paid</th>\n",
       "      <th>price</th>\n",
       "      <th>num_subscribers</th>\n",
       "      <th>num_reviews</th>\n",
       "      <th>num_lectures</th>\n",
       "      <th>level</th>\n",
       "      <th>content_duration</th>\n",
       "      <th>published_timestamp</th>\n",
       "      <th>subject</th>\n",
       "      <th>prices</th>\n",
       "    </tr>\n",
       "  </thead>\n",
       "  <tbody>\n",
       "  </tbody>\n",
       "</table>\n",
       "</div>"
      ],
      "text/plain": [
       "Empty DataFrame\n",
       "Columns: [course_id, course_title, is_paid, price, num_subscribers, num_reviews, num_lectures, level, content_duration, published_timestamp, subject, prices]\n",
       "Index: []"
      ]
     },
     "execution_count": 45,
     "metadata": {},
     "output_type": "execute_result"
    }
   ],
   "source": [
    "df[df[\"course_title\"].str.contains(\"python\")]"
   ]
  },
  {
   "cell_type": "code",
   "execution_count": 53,
   "metadata": {},
   "outputs": [
    {
     "data": {
      "text/plain": [
       "array(['Advanced Scalable Python Web Development Using Flask',\n",
       "       'Coding for Entrepreneurs: Learn Python, Django, and More.',\n",
       "       'Complete Python Web Course: Build 8 Python Web Apps',\n",
       "       'Core: A Web App Reference Guide for Django, Python, and More',\n",
       "       'Fun and creative web engineering with Python and Web2py',\n",
       "       'Introduction to QGIS Python Programming',\n",
       "       'Investment Portfolio Analysis with Python',\n",
       "       'Learn Python and Django: Payment Processing',\n",
       "       'Learn Python Django - A Hands-On Course',\n",
       "       'Learn to code in Python and learn Adobe Photoshop today!',\n",
       "       'Professional Python Web Development Using Flask',\n",
       "       'Professional RESTful API Design using Python Flask',\n",
       "       'Projects in Django and Python',\n",
       "       'Python Algo Stock Trading: Automate Your Trading!',\n",
       "       'Python Algo Trading: FX Trading with Oanda',\n",
       "       'Python Algo Trading: Sentiment Trading with News',\n",
       "       'Python and Django Full Stack Web Developer Bootcamp',\n",
       "       'Python for Beginners: Python Programming Language | Tutorial',\n",
       "       'Python for Finance: Investment Fundamentals & Data Analytics',\n",
       "       'Python for Trading & Investing',\n",
       "       'Python Programming: Create an Digital Marketplace in Django',\n",
       "       'Python Web Programming',\n",
       "       'Quantitative Trading Analysis with Python',\n",
       "       'REST APIs with Flask and Python',\n",
       "       'Stock Technical Analysis with Python',\n",
       "       'The Complete Ethical Hacking Course 2.0: Python & Kali Linux',\n",
       "       \"Try Django 1.9 | Build a Blog and Learn Python's #1 Library\",\n",
       "       'Web Programming with Python',\n",
       "       'Web Scraping with Python, Ruby & import. io'], dtype=object)"
      ]
     },
     "execution_count": 53,
     "metadata": {},
     "output_type": "execute_result"
    }
   ],
   "source": [
    "df[df[\"course_title\"].str.contains(\"python\", case=False)][\"course_title\"].unique()\n"
   ]
  },
  {
   "cell_type": "markdown",
   "metadata": {},
   "source": [
    "#### 9) What are courses that were published in the year 2015 ?"
   ]
  },
  {
   "cell_type": "code",
   "execution_count": 56,
   "metadata": {},
   "outputs": [
    {
     "data": {
      "text/html": [
       "<div>\n",
       "<style scoped>\n",
       "    .dataframe tbody tr th:only-of-type {\n",
       "        vertical-align: middle;\n",
       "    }\n",
       "\n",
       "    .dataframe tbody tr th {\n",
       "        vertical-align: top;\n",
       "    }\n",
       "\n",
       "    .dataframe thead th {\n",
       "        text-align: right;\n",
       "    }\n",
       "</style>\n",
       "<table border=\"1\" class=\"dataframe\">\n",
       "  <thead>\n",
       "    <tr style=\"text-align: right;\">\n",
       "      <th></th>\n",
       "      <th>course_id</th>\n",
       "      <th>course_title</th>\n",
       "      <th>is_paid</th>\n",
       "      <th>price</th>\n",
       "      <th>num_subscribers</th>\n",
       "      <th>num_reviews</th>\n",
       "      <th>num_lectures</th>\n",
       "      <th>level</th>\n",
       "      <th>content_duration</th>\n",
       "      <th>published_timestamp</th>\n",
       "      <th>subject</th>\n",
       "      <th>prices</th>\n",
       "      <th>year</th>\n",
       "    </tr>\n",
       "  </thead>\n",
       "  <tbody>\n",
       "    <tr>\n",
       "      <th>0</th>\n",
       "      <td>288942</td>\n",
       "      <td>#1 Piano Hand Coordination: Play 10th Ballad i...</td>\n",
       "      <td>True</td>\n",
       "      <td>35</td>\n",
       "      <td>3137</td>\n",
       "      <td>18</td>\n",
       "      <td>68</td>\n",
       "      <td>All Levels</td>\n",
       "      <td>1.5 hours</td>\n",
       "      <td>2014-09-18T05:07:05Z</td>\n",
       "      <td>Musical Instruments</td>\n",
       "      <td>35</td>\n",
       "      <td>2014</td>\n",
       "    </tr>\n",
       "  </tbody>\n",
       "</table>\n",
       "</div>"
      ],
      "text/plain": [
       "   course_id                                       course_title  is_paid  \\\n",
       "0     288942  #1 Piano Hand Coordination: Play 10th Ballad i...     True   \n",
       "\n",
       "  price  num_subscribers  num_reviews  num_lectures       level  \\\n",
       "0    35             3137           18            68  All Levels   \n",
       "\n",
       "  content_duration   published_timestamp              subject  prices  year  \n",
       "0        1.5 hours  2014-09-18T05:07:05Z  Musical Instruments      35  2014  "
      ]
     },
     "execution_count": 56,
     "metadata": {},
     "output_type": "execute_result"
    }
   ],
   "source": [
    "df.head(1)"
   ]
  },
  {
   "cell_type": "code",
   "execution_count": 55,
   "metadata": {},
   "outputs": [],
   "source": [
    "df[\"year\"] = pd.to_datetime(df[\"published_timestamp\"]).dt.year"
   ]
  },
  {
   "cell_type": "code",
   "execution_count": 57,
   "metadata": {},
   "outputs": [
    {
     "data": {
      "text/plain": [
       "10      1 - Concepts of Statistics For Beginners Step ...\n",
       "16            10 Numbers Every Business Owner Should Know\n",
       "19      101 Blues riffs - learn how the harmonica supe...\n",
       "23      16 Guitar Chords to Jam With - (Beginner - Int...\n",
       "26          2 Easy Steps To Investment And Avoiding Traps\n",
       "                              ...                        \n",
       "3675                           Your First Course on Piano\n",
       "3676    Your First Successful Forex Trades - With Case...\n",
       "3677    Your Own Site in 45 Min: The Complete Wordpres...\n",
       "3678      Your Second Course on Piano: Two Handed Playing\n",
       "3679    Zend Framework 2: Learn the PHP framework ZF2 ...\n",
       "Name: course_title, Length: 1014, dtype: object"
      ]
     },
     "execution_count": 57,
     "metadata": {},
     "output_type": "execute_result"
    }
   ],
   "source": [
    "df[df[\"year\"]==2015][\"course_title\"]"
   ]
  },
  {
   "cell_type": "markdown",
   "metadata": {},
   "source": [
    "#### 10) What is the Max. Number of Subscribers for Each Level of courses ?"
   ]
  },
  {
   "cell_type": "code",
   "execution_count": 61,
   "metadata": {},
   "outputs": [
    {
     "data": {
      "text/plain": [
       "level\n",
       "All Levels            268923\n",
       "Beginner Level        161029\n",
       "Intermediate Level     29167\n",
       "Expert Level            5172\n",
       "Name: num_subscribers, dtype: int64"
      ]
     },
     "execution_count": 61,
     "metadata": {},
     "output_type": "execute_result"
    }
   ],
   "source": [
    "df.groupby(\"level\").num_subscribers.max().sort_values(ascending=False)"
   ]
  }
 ],
 "metadata": {
  "kernelspec": {
   "display_name": "Python 3",
   "language": "python",
   "name": "python3"
  },
  "language_info": {
   "codemirror_mode": {
    "name": "ipython",
    "version": 3
   },
   "file_extension": ".py",
   "mimetype": "text/x-python",
   "name": "python",
   "nbconvert_exporter": "python",
   "pygments_lexer": "ipython3",
   "version": "3.13.0"
  }
 },
 "nbformat": 4,
 "nbformat_minor": 2
}
